{
 "cells": [
  {
   "cell_type": "code",
   "execution_count": null,
   "metadata": {},
   "outputs": [],
   "source": [
    "# ! pip install python-resize-image\n",
    "# from PIL import Image\n",
    "# from resizeimage import resizeimage\n",
    "\n",
    "# #open image file\n",
    "# with open('47812522351_2fba5f0178_o.jpg', 'r+b') as fd_img:\n",
    "#     # create a PIL Image from file\n",
    "#     img = Image.open(fd_img)\n",
    "#     # resize image (contain)\n",
    "#     img = resizeimage.resize_contain(img, [64, 64])\n",
    "#     # covert to RBA incase it's RGBA\n",
    "#     img = img.convert(\"RGB\")\n",
    "#     # save image\n",
    "#     img.save('resized-image.jpg', img.format)"
   ]
  }
 ],
 "metadata": {
  "kernelspec": {
   "display_name": "base",
   "language": "python",
   "name": "python3"
  },
  "language_info": {
   "codemirror_mode": {
    "name": "ipython",
    "version": 3
   },
   "file_extension": ".py",
   "mimetype": "text/x-python",
   "name": "python",
   "nbconvert_exporter": "python",
   "pygments_lexer": "ipython3",
   "version": "3.11.5"
  }
 },
 "nbformat": 4,
 "nbformat_minor": 2
}
