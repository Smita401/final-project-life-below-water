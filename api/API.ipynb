{
 "cells": [
  {
   "cell_type": "code",
   "execution_count": 1,
   "metadata": {},
   "outputs": [],
   "source": [
    "import pandas as pd\n",
    "import requests\n",
    "\n",
    "\n",
    "#Import all Goal 14 [Life Below Water] Target 14.1 -Marine Pollution of all kinds\n",
    "\n",
    "\n",
    "# Empty list to store combined data\n",
    "combined_data = []\n",
    "\n",
    "# Iterate through pages check number of pages before\n",
    "for page in range(1,44): \n",
    "    target=14.1\n",
    "\n",
    "    api_url = f'https://unstats.un.org/sdgapi/v1/sdg/Target/Data?target={target}&page={page}&pageSize=1000'\n",
    "    \n",
    "    # Fetch JSON data for each page\n",
    "    response = requests.get(api_url)\n",
    "    api_info = response.json()\n",
    "    \n",
    "    # Append the \"data\" array from each page to the combined list\n",
    "    combined_data.extend(api_info['data'])\n",
    "\n",
    "# Add the combined \"data\" to the original JSON object\n",
    "api_sum = combined_data\n",
    "\n",
    "# \n",
    "# df_api = pd.DataFrame(api_sum)\n",
    "# df_api.to_csv('api_data_UN_14.1.csv',index=False)"
   ]
  },
  {
   "cell_type": "code",
   "execution_count": 2,
   "metadata": {},
   "outputs": [],
   "source": [
    "#Import all Goal 14 [Life Below Water] Target 14.3 -Ocean Acidification (PH)\n",
    "\n",
    "# Empty list to store combined data\n",
    "combined_data = []\n",
    "\n",
    "# Iterate through pages check number of pages before\n",
    "for page in range(1,3): \n",
    "    target=14.3\n",
    "\n",
    "    api_url = f'https://unstats.un.org/sdgapi/v1/sdg/Target/Data?target={target}&page={page}&pageSize=1000'\n",
    "    \n",
    "    # Fetch JSON data for each page\n",
    "    response = requests.get(api_url)\n",
    "    api_info = response.json()\n",
    "    \n",
    "    # Append the \"data\" array from each page to the combined list\n",
    "    combined_data.extend(api_info['data'])\n",
    "\n",
    "# Add the combined \"data\" to the original JSON object\n",
    "api_sum = combined_data\n",
    "\n",
    "# \n",
    "# df_api = pd.DataFrame(api_sum)\n",
    "# df_api.to_csv('api_data_UN_14.3.csv',index=False)"
   ]
  }
 ],
 "metadata": {
  "kernelspec": {
   "display_name": "base",
   "language": "python",
   "name": "python3"
  },
  "language_info": {
   "codemirror_mode": {
    "name": "ipython",
    "version": 3
   },
   "file_extension": ".py",
   "mimetype": "text/x-python",
   "name": "python",
   "nbconvert_exporter": "python",
   "pygments_lexer": "ipython3",
   "version": "3.11.5"
  }
 },
 "nbformat": 4,
 "nbformat_minor": 2
}
