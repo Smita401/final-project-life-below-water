{
 "cells": [
  {
   "cell_type": "markdown",
   "metadata": {},
   "source": [
    "### Connection to SQL"
   ]
  },
  {
   "cell_type": "code",
   "execution_count": null,
   "metadata": {},
   "outputs": [],
   "source": [
    "import pandas as pd\n",
    "from sqlalchemy import create_engine , text\n",
    "\n",
    "\n",
    "\n",
    "pw_raw ='SQL2024!'#os.getenv('mysql_pass')\n",
    "connection_string = 'mysql+pymysql://root:' + pw_raw + '@localhost:3306/'\n",
    "engine = create_engine(connection_string)\n",
    "\n",
    "with engine.connect() as conn:\n",
    "    conn.execute(text(f\"CREATE DATABASE IF NOT EXISTS global_bleaching_env\"))\n",
    "\n",
    "df3.to_sql('global_main', engine, 'global_bleaching_env', if_exists='replace', index=False)"
   ]
  }
 ],
 "metadata": {
  "language_info": {
   "name": "python"
  }
 },
 "nbformat": 4,
 "nbformat_minor": 2
}
